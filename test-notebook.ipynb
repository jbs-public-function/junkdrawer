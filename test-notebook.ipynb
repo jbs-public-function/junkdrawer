{
 "cells": [
  {
   "cell_type": "code",
   "execution_count": null,
   "id": "75dd2417-b0ed-457d-8061-baed0bb3a9f0",
   "metadata": {},
   "outputs": [],
   "source": []
  }
 ],
 "metadata": {
  "kernelspec": {
   "display_name": "junkdrawer",
   "language": "python",
   "name": "junkdrawer"
  },
  "language_info": {
   "codemirror_mode": {
    "name": "ipython",
    "version": 3
   },
   "file_extension": ".py",
   "mimetype": "text/x-python",
   "name": "python",
   "nbconvert_exporter": "python",
   "pygments_lexer": "ipython3",
   "version": "3.12.3"
  }
 },
 "nbformat": 4,
 "nbformat_minor": 5
}
